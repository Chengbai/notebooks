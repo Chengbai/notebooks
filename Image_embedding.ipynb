{
 "cells": [
  {
   "cell_type": "code",
   "execution_count": null,
   "metadata": {},
   "outputs": [],
   "source": [
    "%load_ext autoreload\n",
    "%autoreload 2\n",
    "\n",
    "import torch\n",
    "import torch.nn as nn\n",
    "import torch.functional as F\n",
    "from torch.utils.data import DataLoader\n",
    "\n",
    "from config import Config\n",
    "from fliker_img_comment_dataset import ImgCommentDataset\n",
    "from img_embedding import ImageEmbedding\n",
    "from img_util import show_img_tensor_CHW\n",
    "\n",
    "from pathlib import Path\n"
   ]
  },
  {
   "cell_type": "code",
   "execution_count": null,
   "metadata": {},
   "outputs": [],
   "source": [
    "config = Config()\n",
    "img_comments_folder = Path(\"/Users/chengbai/ml/dataset/flickr30k_images/\")\n",
    "\n",
    "train_dataset = ImgCommentDataset(config, img_comments_folder, train_test_split=\"train\", train_test_split_portion=0.8)\n",
    "\n",
    "BATCH_SIZE = 2\n",
    "train_dataloader = DataLoader(train_dataset, batch_size=BATCH_SIZE, shuffle=True)\n",
    "\n",
    "batch_img_tensor, batch_img_id_tensor, batch_comment_encoding = next(iter(train_dataloader))\n",
    "print(f\"batch_img_tensor: {batch_img_tensor.size()}\")\n",
    "print(f\"batch_img_id_tensor: {batch_img_id_tensor.size()}\")\n",
    "print(f\"batch_comment_encoding: {batch_comment_encoding.size()}\")\n",
    "show_img_tensor_CHW(img_tensor=batch_img_tensor[0])"
   ]
  },
  {
   "cell_type": "code",
   "execution_count": null,
   "metadata": {},
   "outputs": [],
   "source": [
    "img_embedding = ImageEmbedding(config=config)\n",
    "img_embedding = img_embedding(batch_img_tensor)\n",
    "print(f\"img_encoding: {img_embedding.size()}\")"
   ]
  },
  {
   "cell_type": "code",
   "execution_count": null,
   "metadata": {},
   "outputs": [],
   "source": []
  },
  {
   "cell_type": "code",
   "execution_count": null,
   "metadata": {},
   "outputs": [],
   "source": []
  }
 ],
 "metadata": {
  "kernelspec": {
   "display_name": "torch",
   "language": "python",
   "name": "python3"
  },
  "language_info": {
   "codemirror_mode": {
    "name": "ipython",
    "version": 3
   },
   "file_extension": ".py",
   "mimetype": "text/x-python",
   "name": "python",
   "nbconvert_exporter": "python",
   "pygments_lexer": "ipython3",
   "version": "3.11.8"
  }
 },
 "nbformat": 4,
 "nbformat_minor": 2
}
