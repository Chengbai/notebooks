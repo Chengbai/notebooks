{
 "cells": [
  {
   "cell_type": "code",
   "execution_count": null,
   "metadata": {},
   "outputs": [],
   "source": [
    "%load_ext autoreload\n",
    "%autoreload 2\n",
    "\n",
    "import matplotlib.pyplot as plt\n",
    "import pandas as pd\n",
    "\n",
    "from config import Config\n",
    "from img_util import show_img_tensor_CHW\n",
    "from fliker_img_comment_dataset import ImgCommentDataset\n",
    "from pathlib import Path\n",
    "import torch\n",
    "from torch.utils.data import DataLoader\n"
   ]
  },
  {
   "cell_type": "code",
   "execution_count": null,
   "metadata": {},
   "outputs": [],
   "source": [
    "img_comments_folder = Path(\"/Users/chengbai/ml/dataset/flickr30k_images/\")\n",
    "img_comments_file = img_comments_folder / \"results.csv\" # /Users/chengbai/ml/dataset/flickr30k_images/results.csv\n",
    "imgs_folder = img_comments_folder / \"flickr30k_images\"  # /Users/chengbai/ml/dataset/flickr30k_images/flickr30k_images\n",
    "\n",
    "list(imgs_folder.glob(\"*.jpg\"))[:2]"
   ]
  },
  {
   "cell_type": "code",
   "execution_count": null,
   "metadata": {},
   "outputs": [],
   "source": [
    "# The current `results.csv` file is using \"| \" to seperate 3 columns. \n",
    "# For the pd.read_csv, the `sep` here is given as a regular expression. \n",
    "df = pd.read_csv(img_comments_file, sep=\"|\", index_col=False)\n",
    "df = df.astype({'image_name': 'str', 'comment_number': int, 'comment': str})\n",
    "df1 = df[0: 1]\n",
    "list(df1[\"image_name\"]), df1[\"image_name\"][0]\n"
   ]
  },
  {
   "cell_type": "code",
   "execution_count": null,
   "metadata": {},
   "outputs": [],
   "source": [
    "config = Config()\n",
    "train_dataset = ImgCommentDataset(config, img_comments_folder, train_test_split=\"train\", train_test_split_portion=0.8)\n",
    "test_dataset = ImgCommentDataset(config, img_comments_folder, train_test_split=\"test\", train_test_split_portion=0.8)\n",
    "print(len(train_dataset), len(test_dataset))"
   ]
  },
  {
   "cell_type": "code",
   "execution_count": null,
   "metadata": {},
   "outputs": [],
   "source": [
    "img_tensor, img_id_tensor, comment_encoding = train_dataset[0]\n",
    "show_img_tensor_CHW(img_tensor)"
   ]
  },
  {
   "cell_type": "code",
   "execution_count": null,
   "metadata": {},
   "outputs": [],
   "source": [
    "# Data Loader\n",
    "BATCH_SIZE = 2\n",
    "train_dataloader = DataLoader(train_dataset, batch_size=BATCH_SIZE, shuffle=True)\n",
    "test_dataloader = DataLoader(test_dataset, batch_size=BATCH_SIZE, shuffle=True)"
   ]
  },
  {
   "cell_type": "code",
   "execution_count": null,
   "metadata": {},
   "outputs": [],
   "source": [
    "# for batch_data in train_dataloader:\n",
    "#     print(train_dataloader)\n",
    "#     break\n",
    "batch_img_tensors, batch_img_id_tensors, batch_text_encodings = next(iter(train_dataloader))\n",
    "print(f\"batch_img_tensors: {batch_img_tensors.size()}\")\n",
    "print(f\"batch_img_id_tensors: {batch_img_id_tensors.size()}\")\n",
    "print(f\"batch_text_encodings: {batch_text_encodings.size()}\")"
   ]
  },
  {
   "cell_type": "code",
   "execution_count": null,
   "metadata": {},
   "outputs": [],
   "source": [
    "plt.imshow(batch_img_tensors[0].permute(1, 2, 0)) # C x H x W => H x W x C"
   ]
  },
  {
   "cell_type": "code",
   "execution_count": null,
   "metadata": {},
   "outputs": [],
   "source": []
  }
 ],
 "metadata": {
  "kernelspec": {
   "display_name": "torch",
   "language": "python",
   "name": "python3"
  },
  "language_info": {
   "codemirror_mode": {
    "name": "ipython",
    "version": 3
   },
   "file_extension": ".py",
   "mimetype": "text/x-python",
   "name": "python",
   "nbconvert_exporter": "python",
   "pygments_lexer": "ipython3",
   "version": "3.11.8"
  }
 },
 "nbformat": 4,
 "nbformat_minor": 2
}
