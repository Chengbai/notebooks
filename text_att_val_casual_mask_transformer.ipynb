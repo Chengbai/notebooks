{
 "cells": [
  {
   "cell_type": "code",
   "execution_count": null,
   "metadata": {},
   "outputs": [
    {
     "name": "stderr",
     "output_type": "stream",
     "text": [
      "/opt/anaconda3/envs/torch/lib/python3.11/site-packages/tqdm/auto.py:21: TqdmWarning: IProgress not found. Please update jupyter and ipywidgets. See https://ipywidgets.readthedocs.io/en/stable/user_install.html\n",
      "  from .autonotebook import tqdm as notebook_tqdm\n"
     ]
    }
   ],
   "source": [
    "from config import Config\n",
    "\n",
    "from img_comment_dataset import ImgCommentDataset\n",
    "from exp_att_val_transformer.text_casual_mask_att_val_transformer import (\n",
    "    TextAttValMaskedTransformer,\n",
    ")\n",
    "\n",
    "import torch\n",
    "import torch.nn as nn\n",
    "from torch.utils.data import DataLoader\n",
    "\n",
    "from common_util import get_logger\n",
    "\n",
    "logger = get_logger(__name__)"
   ]
  },
  {
   "cell_type": "code",
   "execution_count": 2,
   "metadata": {},
   "outputs": [
    {
     "name": "stdout",
     "output_type": "stream",
     "text": [
      "tokens: 128000\n",
      "tokenizer.is_fast: True\n",
      "Enriched img id: /tmp/enriched_results.csv\n",
      "tokens: 128000\n",
      "tokenizer.is_fast: True\n",
      "batch_img_tensor: torch.Size([2, 3, 224, 224])\n",
      "batch_img_id_tensor: torch.Size([2])\n",
      "batch_comment_encoding: torch.Size([2, 50])\n",
      "batch_comment_mask: torch.Size([2, 50])\n"
     ]
    }
   ],
   "source": [
    "config = Config()\n",
    "text_transformer = TextMaskedTransformer(config=config)\n",
    "\n",
    "train_dataset = ImgCommentDataset(config, split=\"train\")\n",
    "\n",
    "BATCH_SIZE = 2\n",
    "train_dataloader = DataLoader(train_dataset, batch_size=BATCH_SIZE, shuffle=True)\n",
    "\n",
    "batch_img_tensor, batch_img_id_tensor, batch_comment_encoding, batch_comment_mask = (\n",
    "    next(iter(train_dataloader))\n",
    ")\n",
    "logger.info(f\"batch_img_tensor: {batch_img_tensor.size()}\")\n",
    "logger.info(f\"batch_img_id_tensor: {batch_img_id_tensor.size()}\")\n",
    "logger.info(f\"batch_comment_encoding: {batch_comment_encoding.size()}\")\n",
    "logger.info(f\"batch_comment_mask: {batch_comment_mask.size()}\")"
   ]
  },
  {
   "cell_type": "code",
   "execution_count": 3,
   "metadata": {},
   "outputs": [
    {
     "name": "stdout",
     "output_type": "stream",
     "text": [
      "batch_comment_encoding: torch.Size([2, 50])\n"
     ]
    },
    {
     "data": {
      "text/plain": [
       "tensor([[[-3.2867, -1.9692, -1.0498,  ...,  2.8695,  1.2857,  1.0185],\n",
       "         [-2.7225, -2.6339, -0.1985,  ...,  1.2647,  0.4622,  1.8369],\n",
       "         [-4.5211, -1.9832, -2.3136,  ...,  0.0302, -1.1067,  2.4236],\n",
       "         ...,\n",
       "         [-2.8426, -2.0694, -1.0883,  ...,  1.5922,  0.5160, -0.2233],\n",
       "         [-2.8426, -2.0694, -1.0883,  ...,  1.5922,  0.5160, -0.2233],\n",
       "         [-2.8426, -2.0694, -1.0883,  ...,  1.5922,  0.5160, -0.2233]],\n",
       "\n",
       "        [[-2.9785, -1.7994, -1.2250,  ...,  2.8120,  1.1808,  0.9672],\n",
       "         [-4.3118, -0.7161, -0.9307,  ...,  1.7823,  1.1035,  1.8466],\n",
       "         [-4.4620, -2.1306, -3.2846,  ...,  2.0892,  0.4304,  0.8443],\n",
       "         ...,\n",
       "         [-2.5613, -1.8117, -1.3165,  ...,  1.5518,  0.3764, -0.2631],\n",
       "         [-2.5613, -1.8117, -1.3165,  ...,  1.5518,  0.3764, -0.2631],\n",
       "         [-2.5613, -1.8117, -1.3165,  ...,  1.5518,  0.3764, -0.2631]]],\n",
       "       grad_fn=<AddBackward0>)"
      ]
     },
     "execution_count": 3,
     "metadata": {},
     "output_type": "execute_result"
    }
   ],
   "source": [
    "logger.info(f\"batch_comment_encoding: {batch_comment_encoding.size()}\")\n",
    "text_transformer(batch_comment_encoding)"
   ]
  },
  {
   "cell_type": "code",
   "execution_count": null,
   "metadata": {},
   "outputs": [],
   "source": []
  },
  {
   "cell_type": "code",
   "execution_count": null,
   "metadata": {},
   "outputs": [],
   "source": []
  }
 ],
 "metadata": {
  "kernelspec": {
   "display_name": "torch",
   "language": "python",
   "name": "python3"
  },
  "language_info": {
   "codemirror_mode": {
    "name": "ipython",
    "version": 3
   },
   "file_extension": ".py",
   "mimetype": "text/x-python",
   "name": "python",
   "nbconvert_exporter": "python",
   "pygments_lexer": "ipython3",
   "version": "3.11.8"
  }
 },
 "nbformat": 4,
 "nbformat_minor": 2
}
