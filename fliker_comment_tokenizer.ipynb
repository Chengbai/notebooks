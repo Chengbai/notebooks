{
 "cells": [
  {
   "cell_type": "code",
   "execution_count": 1,
   "metadata": {},
   "outputs": [
    {
     "name": "stderr",
     "output_type": "stream",
     "text": [
      "/opt/anaconda3/envs/torch/lib/python3.11/site-packages/tqdm/auto.py:21: TqdmWarning: IProgress not found. Please update jupyter and ipywidgets. See https://ipywidgets.readthedocs.io/en/stable/user_install.html\n",
      "  from .autonotebook import tqdm as notebook_tqdm\n"
     ]
    }
   ],
   "source": [
    "%load_ext autoreload\n",
    "%autoreload 2\n",
    "\n",
    "import torch\n",
    "import torch.nn as nn\n",
    "import pandas as pd\n",
    "import os\n",
    "os.environ[\"TOKENIZERS_PARALLELISM\"] = \"1\"\n",
    "\n",
    "from config import Config\n",
    "from fliker_comment_tokenizer import FlikerCommentTokenizer\n",
    "from img_comment_dataset import ImgCommentDataset\n",
    "from pathlib import Path\n",
    "from transformers import AutoTokenizer\n",
    "from tqdm import tqdm\n",
    "\n",
    "from common_util import get_logger\n",
    "logger = get_logger(__name__)"
   ]
  },
  {
   "cell_type": "code",
   "execution_count": 2,
   "metadata": {},
   "outputs": [
    {
     "name": "stdout",
     "output_type": "stream",
     "text": [
      "Loaded 158915 fliker image-caption data items.\n",
      "Loaded 591753 coco image-caption data items.\n",
      "Loaded 768536 visual-genome image-caption data items.\n"
     ]
    },
    {
     "name": "stderr",
     "output_type": "stream",
     "text": [
      "100%|██████████| 1520/1520 [00:02<00:00, 660.77it/s]\n"
     ]
    },
    {
     "name": "stdout",
     "output_type": "stream",
     "text": [
      "\n",
      "\n",
      "\n",
      "Saved new fliker comment tokenizer at: /Users/chengbai/ml/cheng_git/notebooks/paligemma-3b-mix-224-tokenizer\n"
     ]
    },
    {
     "data": {
      "text/plain": [
       "GemmaTokenizerFast(name_or_path='google/paligemma-3b-mix-224', vocab_size=10000, model_max_length=1000000000000000019884624838656, is_fast=True, padding_side='right', truncation_side='right', special_tokens={'bos_token': '<bos>', 'eos_token': '<eos>', 'unk_token': '<unk>', 'pad_token': '<pad>', 'additional_special_tokens': ['<image>']}, clean_up_tokenization_spaces=False),  added_tokens_decoder={\n",
       "\t0: AddedToken(\"<pad>\", rstrip=False, lstrip=False, single_word=False, normalized=False, special=True),\n",
       "\t1: AddedToken(\"<eos>\", rstrip=False, lstrip=False, single_word=False, normalized=False, special=True),\n",
       "\t2: AddedToken(\"<bos>\", rstrip=False, lstrip=False, single_word=False, normalized=False, special=True),\n",
       "\t3: AddedToken(\"<unk>\", rstrip=False, lstrip=False, single_word=False, normalized=False, special=True),\n",
       "\t4: AddedToken(\"<image>\", rstrip=False, lstrip=False, single_word=False, normalized=False, special=True),\n",
       "}"
      ]
     },
     "execution_count": 2,
     "metadata": {},
     "output_type": "execute_result"
    }
   ],
   "source": [
    "config = Config()\n",
    "\n",
    "fliker_comment_toeknizer = FlikerCommentTokenizer.train_tokenizer(config=config)\n",
    "fliker_comment_toeknizer"
   ]
  },
  {
   "cell_type": "code",
   "execution_count": 2,
   "metadata": {},
   "outputs": [
    {
     "name": "stdout",
     "output_type": "stream",
     "text": [
      "2024-09-29 12:32:07,378 - fliker_comment_tokenizer - INFO - tokens: 10000\n",
      "2024-09-29 12:32:07,379 - fliker_comment_tokenizer - INFO - tokenizer.is_fast: True\n",
      "2024-09-29 12:32:07,380 - __main__ - INFO - encoded: [2, 4, 2, 143, 152, 109, 197, 77, 0, 1]\n",
      "2024-09-29 12:32:07,380 - __main__ - INFO - decode: <bos><image><bos>cheng bai<pad><eos>\n"
     ]
    }
   ],
   "source": [
    "config = Config()\n",
    "new_fliker_comment_toeknizer = FlikerCommentTokenizer.get_tokenizer(config=config)\n",
    "\n",
    "# test_data = \"hello, 會 員\"\n",
    "test_data = \"<image><bos>cheng bai<pad><eos>\"\n",
    "test_data_encoded = new_fliker_comment_toeknizer.encode(test_data)\n",
    "logger.info(f\"encoded: {test_data_encoded}\")\n",
    "test_data_decoded = new_fliker_comment_toeknizer.decode(test_data_encoded)\n",
    "logger.info(f\"decode: {test_data_decoded}\")"
   ]
  },
  {
   "cell_type": "code",
   "execution_count": 5,
   "metadata": {},
   "outputs": [
    {
     "name": "stdout",
     "output_type": "stream",
     "text": [
      "<image>: [2, 4]\n",
      "<bos>: [2, 2]\n",
      "<eos>: [2, 1]\n",
      "<pad>: [2, 0]\n",
      "cheng bai: [2, 135, 148, 176, 149, 77]\n"
     ]
    }
   ],
   "source": [
    "logger.info(f\"<image>: {new_fliker_comment_toeknizer.encode('<image>')}\")\n",
    "logger.info(f\"<bos>: {new_fliker_comment_toeknizer.encode('<bos>')}\")\n",
    "logger.info(f\"<eos>: {new_fliker_comment_toeknizer.encode('<eos>')}\")\n",
    "logger.info(f\"<pad>: {new_fliker_comment_toeknizer.encode('<pad>')}\")\n",
    "logger.info(f\"cheng bai: {new_fliker_comment_toeknizer.encode('cheng bai')}\")"
   ]
  },
  {
   "cell_type": "code",
   "execution_count": null,
   "metadata": {},
   "outputs": [
    {
     "name": "stdout",
     "output_type": "stream",
     "text": [
      "2024-09-29 12:29:37,937 - __main__ - INFO - <pad>\n"
     ]
    }
   ],
   "source": [
    "new_fliker_comment_toeknizer.vocab_size, len(new_fliker_comment_toeknizer.get_vocab()),\n",
    "new_fliker_comment_toeknizer.get_added_vocab()\n",
    "\n",
    "for k, v in new_fliker_comment_toeknizer.vocab.items():\n",
    "    if v == 0:\n",
    "        logger.info(k)\n",
    "        break"
   ]
  },
  {
   "cell_type": "markdown",
   "metadata": {},
   "source": [
    "# Verify encode and decode logic"
   ]
  },
  {
   "cell_type": "code",
   "execution_count": 4,
   "metadata": {},
   "outputs": [
    {
     "name": "stdout",
     "output_type": "stream",
     "text": [
      "2024-09-29 12:32:19,652 - img_comment_dataset - INFO - Loaded 158915 fliker image-caption data items.\n",
      "2024-09-29 12:32:21,573 - img_comment_dataset - INFO - Loaded 591753 coco image-caption data items.\n",
      "2024-09-29 12:32:27,659 - img_comment_dataset - INFO - Loaded 768536 visual-genome image-caption data items.\n",
      "2024-09-29 12:32:36,037 - img_comment_dataset - INFO - Loaded 158915 fliker image-caption data items.\n",
      "2024-09-29 12:32:38,301 - img_comment_dataset - INFO - Loaded 591753 coco image-caption data items.\n",
      "2024-09-29 12:32:44,255 - img_comment_dataset - INFO - Loaded 768536 visual-genome image-caption data items.\n",
      "2024-09-29 12:32:52,839 - img_comment_dataset - INFO - Loaded 158915 fliker image-caption data items.\n",
      "2024-09-29 12:32:54,678 - img_comment_dataset - INFO - Loaded 591753 coco image-caption data items.\n",
      "2024-09-29 12:33:01,195 - img_comment_dataset - INFO - Loaded 768536 visual-genome image-caption data items.\n",
      "2024-09-29 12:33:08,525 - __main__ - INFO - train_dataset: 1093826, eval_dataset: 273457, test_dataset: 151921\n"
     ]
    }
   ],
   "source": [
    "train_dataset = ImgCommentDataset(config, split=\"train\")\n",
    "eval_dataset = ImgCommentDataset(config, split=\"eval\")\n",
    "test_dataset = ImgCommentDataset(config, split=\"test\")\n",
    "logger.info(\n",
    "    f\"train_dataset: {len(train_dataset)}, eval_dataset: {len(eval_dataset)}, test_dataset: {len(test_dataset)}\"\n",
    ")"
   ]
  },
  {
   "cell_type": "code",
   "execution_count": 15,
   "metadata": {},
   "outputs": [
    {
     "name": "stdout",
     "output_type": "stream",
     "text": [
      "2024-09-29 12:43:14,939 - __main__ - INFO - dataset_name: test\n"
     ]
    },
    {
     "name": "stderr",
     "output_type": "stream",
     "text": [
      " 56%|█████▌    | 151921/273457 [00:06<00:05, 22053.18it/s]\n"
     ]
    }
   ],
   "source": [
    "for dataset_name, dataset in [\n",
    "    # (\"train\", train_dataset),\n",
    "    # (\"eval\", eval_dataset),\n",
    "    (\"test\", test_dataset),\n",
    "]:\n",
    "    logger.info(f\"dataset_name: {dataset_name}\")\n",
    "    for source, comment in tqdm(\n",
    "        zip(dataset.img_comments_df[\"source\"], dataset.img_comments_df[\"comment\"]),\n",
    "        total=len(eval_dataset.img_comments_df),\n",
    "    ):\n",
    "        comment_encoded = new_fliker_comment_toeknizer.encode(comment)\n",
    "        comment_decoded = new_fliker_comment_toeknizer.decode(comment_encoded)\n",
    "    if f\"<bos>{comment}\" != comment_decoded:\n",
    "        logger.info(\n",
    "            f\"comment should be same as commend_decoded. source: {source}, comment: `{comment}`, comment_decoded: `{comment_decoded}`\"\n",
    "        )\n",
    "        # break"
   ]
  },
  {
   "cell_type": "code",
   "execution_count": null,
   "metadata": {},
   "outputs": [],
   "source": []
  }
 ],
 "metadata": {
  "kernelspec": {
   "display_name": "torch",
   "language": "python",
   "name": "python3"
  },
  "language_info": {
   "codemirror_mode": {
    "name": "ipython",
    "version": 3
   },
   "file_extension": ".py",
   "mimetype": "text/x-python",
   "name": "python",
   "nbconvert_exporter": "python",
   "pygments_lexer": "ipython3",
   "version": "3.11.8"
  }
 },
 "nbformat": 4,
 "nbformat_minor": 2
}
