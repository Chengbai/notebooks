{
 "cells": [
  {
   "cell_type": "code",
   "execution_count": 1,
   "metadata": {},
   "outputs": [
    {
     "name": "stderr",
     "output_type": "stream",
     "text": [
      "/opt/anaconda3/envs/torch/lib/python3.11/site-packages/tqdm/auto.py:21: TqdmWarning: IProgress not found. Please update jupyter and ipywidgets. See https://ipywidgets.readthedocs.io/en/stable/user_install.html\n",
      "  from .autonotebook import tqdm as notebook_tqdm\n"
     ]
    }
   ],
   "source": [
    "%load_ext autoreload\n",
    "%autoreload 2\n",
    "\n",
    "import torch\n",
    "import torch.nn as nn\n",
    "import pandas as pd\n",
    "import os\n",
    "os.environ[\"TOKENIZERS_PARALLELISM\"] = \"1\"\n",
    "\n",
    "from config import Config\n",
    "from fliker_comment_tokenizer import FlikerCommentTokenizer\n",
    "from pathlib import Path\n",
    "from transformers import AutoTokenizer\n",
    "from tqdm import tqdm\n"
   ]
  },
  {
   "cell_type": "code",
   "execution_count": 2,
   "metadata": {},
   "outputs": [
    {
     "name": "stdout",
     "output_type": "stream",
     "text": [
      "Loaded 158915 fliker image-caption data items.\n",
      "Loaded 591753 coco image-caption data items.\n"
     ]
    },
    {
     "name": "stderr",
     "output_type": "stream",
     "text": [
      "100%|██████████| 751/751 [00:01<00:00, 587.73it/s]\n"
     ]
    },
    {
     "name": "stdout",
     "output_type": "stream",
     "text": [
      "\n",
      "\n",
      "\n",
      "Saved new fliker comment tokenizer at: /Users/chengbai/ml/cheng_git/notebooks/paligemma-3b-mix-224-tokenizer\n"
     ]
    },
    {
     "data": {
      "text/plain": [
       "GemmaTokenizerFast(name_or_path='google/paligemma-3b-mix-224', vocab_size=10000, model_max_length=1000000000000000019884624838656, is_fast=True, padding_side='right', truncation_side='right', special_tokens={'bos_token': '<bos>', 'eos_token': '<eos>', 'unk_token': '<unk>', 'pad_token': '<pad>', 'additional_special_tokens': ['<image>']}, clean_up_tokenization_spaces=False),  added_tokens_decoder={\n",
       "\t0: AddedToken(\"<pad>\", rstrip=False, lstrip=False, single_word=False, normalized=False, special=True),\n",
       "\t1: AddedToken(\"<eos>\", rstrip=False, lstrip=False, single_word=False, normalized=False, special=True),\n",
       "\t2: AddedToken(\"<bos>\", rstrip=False, lstrip=False, single_word=False, normalized=False, special=True),\n",
       "\t3: AddedToken(\"<unk>\", rstrip=False, lstrip=False, single_word=False, normalized=False, special=True),\n",
       "\t4: AddedToken(\"<image>\", rstrip=False, lstrip=False, single_word=False, normalized=False, special=True),\n",
       "}"
      ]
     },
     "execution_count": 2,
     "metadata": {},
     "output_type": "execute_result"
    }
   ],
   "source": [
    "config = Config()\n",
    "\n",
    "fliker_comment_toeknizer = FlikerCommentTokenizer.train_tokenizer(config=config)\n",
    "fliker_comment_toeknizer"
   ]
  },
  {
   "cell_type": "code",
   "execution_count": 4,
   "metadata": {},
   "outputs": [
    {
     "name": "stdout",
     "output_type": "stream",
     "text": [
      "tokens: 10000\n",
      "tokenizer.is_fast: True\n",
      "encoded: [2, 4, 2, 135, 148, 176, 149, 77, 0, 1]\n",
      "decode: <bos><image><bos>cheng bai<pad><eos>\n"
     ]
    }
   ],
   "source": [
    "new_fliker_comment_toeknizer = FlikerCommentTokenizer.get_tokenizer(config=config)\n",
    "\n",
    "# test_data = \"hello, 會 員\"\n",
    "test_data = \"<image><bos>cheng bai<pad><eos>\"\n",
    "test_data_encoded = new_fliker_comment_toeknizer.encode(test_data)\n",
    "print(f\"encoded: {test_data_encoded}\")\n",
    "test_data_decoded = new_fliker_comment_toeknizer.decode(test_data_encoded)\n",
    "print(f\"decode: {test_data_decoded}\")"
   ]
  },
  {
   "cell_type": "code",
   "execution_count": 5,
   "metadata": {},
   "outputs": [
    {
     "name": "stdout",
     "output_type": "stream",
     "text": [
      "<image>: [2, 4]\n",
      "<bos>: [2, 2]\n",
      "<eos>: [2, 1]\n",
      "<pad>: [2, 0]\n",
      "cheng bai: [2, 135, 148, 176, 149, 77]\n"
     ]
    }
   ],
   "source": [
    "print(f\"<image>: {new_fliker_comment_toeknizer.encode('<image>')}\")\n",
    "print(f\"<bos>: {new_fliker_comment_toeknizer.encode('<bos>')}\")\n",
    "print(f\"<eos>: {new_fliker_comment_toeknizer.encode('<eos>')}\")\n",
    "print(f\"<pad>: {new_fliker_comment_toeknizer.encode('<pad>')}\")\n",
    "print(f\"cheng bai: {new_fliker_comment_toeknizer.encode('cheng bai')}\")"
   ]
  },
  {
   "cell_type": "code",
   "execution_count": 6,
   "metadata": {},
   "outputs": [
    {
     "data": {
      "text/plain": [
       "'<pad>'"
      ]
     },
     "execution_count": 6,
     "metadata": {},
     "output_type": "execute_result"
    }
   ],
   "source": [
    "new_fliker_comment_toeknizer.decode(0)"
   ]
  },
  {
   "cell_type": "code",
   "execution_count": 8,
   "metadata": {},
   "outputs": [
    {
     "name": "stdout",
     "output_type": "stream",
     "text": [
      "<pad>\n"
     ]
    }
   ],
   "source": [
    "new_fliker_comment_toeknizer.vocab_size, len(new_fliker_comment_toeknizer.get_vocab()),\n",
    "new_fliker_comment_toeknizer.get_added_vocab()\n",
    "\n",
    "for k, v in new_fliker_comment_toeknizer.vocab.items():\n",
    "    if v == 0:\n",
    "        print(k)\n",
    "        break"
   ]
  },
  {
   "cell_type": "code",
   "execution_count": null,
   "metadata": {},
   "outputs": [],
   "source": []
  }
 ],
 "metadata": {
  "kernelspec": {
   "display_name": "torch",
   "language": "python",
   "name": "python3"
  },
  "language_info": {
   "codemirror_mode": {
    "name": "ipython",
    "version": 3
   },
   "file_extension": ".py",
   "mimetype": "text/x-python",
   "name": "python",
   "nbconvert_exporter": "python",
   "pygments_lexer": "ipython3",
   "version": "3.11.8"
  }
 },
 "nbformat": 4,
 "nbformat_minor": 2
}
