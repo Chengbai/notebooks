{
 "cells": [
  {
   "cell_type": "code",
   "execution_count": 5,
   "metadata": {},
   "outputs": [
    {
     "name": "stdout",
     "output_type": "stream",
     "text": [
      "The autoreload extension is already loaded. To reload it, use:\n",
      "  %reload_ext autoreload\n"
     ]
    }
   ],
   "source": [
    "%load_ext autoreload\n",
    "%autoreload 2\n",
    "\n",
    "import torch\n",
    "import torch.nn as nn\n",
    "import torch.functional as F\n",
    "from torch.utils.data import DataLoader\n",
    "\n",
    "from config import Config\n",
    "from fliker_img_comment_dataset import ImgCommentDataset\n",
    "from text_token_embedding import TextTokenEmbedding\n",
    "\n",
    "from pathlib import Path\n"
   ]
  },
  {
   "cell_type": "code",
   "execution_count": 6,
   "metadata": {},
   "outputs": [
    {
     "name": "stdout",
     "output_type": "stream",
     "text": [
      "Enriched img id: /tmp/enriched_results.csv\n",
      "idx: 77596\n",
      "idx: 89954\n",
      "batch_img_tensor: torch.Size([2, 3, 512, 512])\n",
      "batch_img_id_tensor: torch.Size([2])\n",
      "batch_comment_encoding: torch.Size([2, 50])\n"
     ]
    }
   ],
   "source": [
    "config = Config()\n",
    "img_comments_folder = Path(\"/Users/chengbai/ml/dataset/flickr30k_images/\")\n",
    "\n",
    "train_dataset = ImgCommentDataset(config, img_comments_folder, train_test_split=\"train\", train_test_split_portion=0.8)\n",
    "\n",
    "BATCH_SIZE = 2\n",
    "train_dataloader = DataLoader(train_dataset, batch_size=BATCH_SIZE, shuffle=True)\n",
    "\n",
    "batch_img_tensor, batch_img_id_tensor, batch_comment_encoding = next(iter(train_dataloader))\n",
    "print(f\"batch_img_tensor: {batch_img_tensor.size()}\")\n",
    "print(f\"batch_img_id_tensor: {batch_img_id_tensor.size()}\")\n",
    "print(f\"batch_comment_encoding: {batch_comment_encoding.size()}\")"
   ]
  },
  {
   "cell_type": "code",
   "execution_count": 7,
   "metadata": {},
   "outputs": [
    {
     "name": "stdout",
     "output_type": "stream",
     "text": [
      "token_embedding: torch.Size([2, 50, 728])\n"
     ]
    }
   ],
   "source": [
    "text_token_embedding = TextTokenEmbedding(config=config)\n",
    "token_embedding = text_token_embedding(batch_comment_encoding)\n",
    "print(f\"token_embedding: {token_embedding.size()}\")"
   ]
  },
  {
   "cell_type": "code",
   "execution_count": 8,
   "metadata": {},
   "outputs": [
    {
     "data": {
      "text/plain": [
       "'An old man is sitting in a chair outside a colorfully painted building .<|endoftext|><|endoftext|><|endoftext|><|endoftext|><|endoftext|><|endoftext|><|endoftext|><|endoftext|><|endoftext|><|endoftext|><|endoftext|><|endoftext|><|endoftext|><|endoftext|><|endoftext|><|endoftext|><|endoftext|><|endoftext|><|endoftext|><|endoftext|><|endoftext|><|endoftext|><|endoftext|><|endoftext|><|endoftext|><|endoftext|><|endoftext|><|endoftext|><|endoftext|><|endoftext|><|endoftext|><|endoftext|><|endoftext|><|endoftext|><|endoftext|>'"
      ]
     },
     "execution_count": 8,
     "metadata": {},
     "output_type": "execute_result"
    }
   ],
   "source": [
    "text_token_embedding.text_encoder.decode(list(batch_comment_encoding[0]))"
   ]
  },
  {
   "cell_type": "code",
   "execution_count": null,
   "metadata": {},
   "outputs": [],
   "source": []
  }
 ],
 "metadata": {
  "kernelspec": {
   "display_name": "torch",
   "language": "python",
   "name": "python3"
  },
  "language_info": {
   "codemirror_mode": {
    "name": "ipython",
    "version": 3
   },
   "file_extension": ".py",
   "mimetype": "text/x-python",
   "name": "python",
   "nbconvert_exporter": "python",
   "pygments_lexer": "ipython3",
   "version": "3.11.8"
  }
 },
 "nbformat": 4,
 "nbformat_minor": 2
}
