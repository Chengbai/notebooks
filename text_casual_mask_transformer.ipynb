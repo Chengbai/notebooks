{
 "cells": [
  {
   "cell_type": "code",
   "execution_count": 1,
   "metadata": {},
   "outputs": [
    {
     "name": "stderr",
     "output_type": "stream",
     "text": [
      "/opt/anaconda3/envs/torch/lib/python3.11/site-packages/tqdm/auto.py:21: TqdmWarning: IProgress not found. Please update jupyter and ipywidgets. See https://ipywidgets.readthedocs.io/en/stable/user_install.html\n",
      "  from .autonotebook import tqdm as notebook_tqdm\n"
     ]
    }
   ],
   "source": [
    "from config import Config\n",
    "\n",
    "from fliker_img_comment_dataset import ImgCommentDataset\n",
    "from text_casual_mask_transformer import TextMaskedTransformer\n",
    "\n",
    "import torch\n",
    "import torch.nn as nn\n",
    "from torch.utils.data import DataLoader\n"
   ]
  },
  {
   "cell_type": "code",
   "execution_count": 2,
   "metadata": {},
   "outputs": [
    {
     "name": "stdout",
     "output_type": "stream",
     "text": [
      "tokens: 128000\n",
      "tokenizer.is_fast: True\n",
      "Enriched img id: /tmp/enriched_results.csv\n",
      "tokens: 128000\n",
      "tokenizer.is_fast: True\n",
      "idx: 94246\n",
      "idx: 5167\n",
      "batch_img_tensor: torch.Size([2, 3, 512, 512])\n",
      "batch_img_id_tensor: torch.Size([2])\n",
      "batch_comment_encoding: torch.Size([2, 50])\n"
     ]
    }
   ],
   "source": [
    "config = Config()\n",
    "text_transformer = TextMaskedTransformer(config=config)\n",
    "\n",
    "train_dataset = ImgCommentDataset(config, split=\"train\")\n",
    "\n",
    "BATCH_SIZE = 2\n",
    "train_dataloader = DataLoader(train_dataset, batch_size=BATCH_SIZE, shuffle=True)\n",
    "\n",
    "batch_img_tensor, batch_img_id_tensor, batch_comment_encoding, batch_comment_mask= next(iter(train_dataloader))\n",
    "print(f\"batch_img_tensor: {batch_img_tensor.size()}\")\n",
    "print(f\"batch_img_id_tensor: {batch_img_id_tensor.size()}\")\n",
    "print(f\"batch_comment_encoding: {batch_comment_encoding.size()}\")\n",
    "print(f\"batch_comment_mask: {batch_comment_mask.size()}\")"
   ]
  },
  {
   "cell_type": "code",
   "execution_count": 3,
   "metadata": {},
   "outputs": [
    {
     "name": "stdout",
     "output_type": "stream",
     "text": [
      "batch_comment_encoding: torch.Size([2, 50])\n"
     ]
    },
    {
     "data": {
      "text/plain": [
       "tensor([[[-2.9965, -2.5986,  1.7316,  ...,  2.8583,  0.7617,  2.8572],\n",
       "         [-3.2299, -3.5699,  1.7567,  ...,  0.6041, -2.0840,  2.2011],\n",
       "         [-2.1205, -1.9326, -1.2019,  ..., -0.1423, -0.7124,  4.1225],\n",
       "         ...,\n",
       "         [-2.8331, -2.0594, -0.9743,  ..., -0.3416,  0.8765,  1.9124],\n",
       "         [-2.8331, -2.0594, -0.9743,  ..., -0.3416,  0.8765,  1.9124],\n",
       "         [-2.8331, -2.0594, -0.9743,  ..., -0.3416,  0.8765,  1.9124]],\n",
       "\n",
       "        [[-2.9047, -2.6965,  1.7756,  ...,  2.9380,  0.7957,  2.7985],\n",
       "         [-3.5086, -1.7134, -2.2590,  ...,  0.2308,  1.3828,  3.0404],\n",
       "         [-3.7643, -0.5407,  0.5804,  ...,  0.4328, -0.9526,  2.2167],\n",
       "         ...,\n",
       "         [-2.7891, -2.0642, -0.9030,  ..., -0.2778,  0.9047,  1.8718],\n",
       "         [-2.7891, -2.0642, -0.9030,  ..., -0.2778,  0.9047,  1.8718],\n",
       "         [-2.7891, -2.0642, -0.9030,  ..., -0.2778,  0.9047,  1.8718]]],\n",
       "       grad_fn=<AddBackward0>)"
      ]
     },
     "execution_count": 3,
     "metadata": {},
     "output_type": "execute_result"
    }
   ],
   "source": [
    "print(f\"batch_comment_encoding: {batch_comment_encoding.size()}\")\n",
    "text_transformer(batch_comment_encoding)\n",
    "      "
   ]
  },
  {
   "cell_type": "code",
   "execution_count": null,
   "metadata": {},
   "outputs": [],
   "source": []
  },
  {
   "cell_type": "code",
   "execution_count": null,
   "metadata": {},
   "outputs": [],
   "source": []
  }
 ],
 "metadata": {
  "kernelspec": {
   "display_name": "torch",
   "language": "python",
   "name": "python3"
  },
  "language_info": {
   "codemirror_mode": {
    "name": "ipython",
    "version": 3
   },
   "file_extension": ".py",
   "mimetype": "text/x-python",
   "name": "python",
   "nbconvert_exporter": "python",
   "pygments_lexer": "ipython3",
   "version": "3.11.8"
  }
 },
 "nbformat": 4,
 "nbformat_minor": 2
}
