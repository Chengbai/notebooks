{
 "cells": [
  {
   "cell_type": "code",
   "execution_count": 7,
   "metadata": {},
   "outputs": [
    {
     "name": "stdout",
     "output_type": "stream",
     "text": [
      "The autoreload extension is already loaded. To reload it, use:\n",
      "  %reload_ext autoreload\n"
     ]
    }
   ],
   "source": [
    "%load_ext autoreload\n",
    "%autoreload 2\n",
    "\n",
    "import matplotlib.pyplot as plt\n",
    "import numpy as np\n",
    "import pandas as pd\n",
    "\n",
    "from config import Config\n",
    "from datetime import datetime\n",
    "from img_embedding import ImageEmbedding\n",
    "from img_transformer import ImgTransformer\n",
    "from img_util import show_img_tensor_CHW\n",
    "from fliker_comment_tokenizer import FlikerCommentTokenizer\n",
    "from img_comment_dataset import ImgCommentDataset\n",
    "from model_util import count_parameters\n",
    "from pathlib import Path\n",
    "from text_token_embedding import TextTokenEmbedding\n",
    "from text_casual_mask_transformer import TextMaskedTransformer\n",
    "from torch.utils.tensorboard import SummaryWriter\n",
    "from tqdm import tqdm\n",
    "from vlm_model import ImgLanguageModel\n",
    "from loss import constrastive_logit_loss\n",
    "\n",
    "import torch\n",
    "import torch.nn as nn\n",
    "import torch.nn.functional as F\n",
    "from torch.profiler import profile, record_function, ProfilerActivity\n",
    "from torch.utils.data import DataLoader\n",
    "import torchvision.transforms.functional as VF\n",
    "\n",
    "\n",
    "\n",
    "from common_util import get_logger\n",
    "logger = get_logger(__name__)\n",
    "\n",
    "\n",
    "plt.rcParams[\"savefig.bbox\"] = 'tight'"
   ]
  },
  {
   "cell_type": "code",
   "execution_count": 8,
   "metadata": {},
   "outputs": [
    {
     "name": "stdout",
     "output_type": "stream",
     "text": [
      "tensor(0.5781)\n"
     ]
    }
   ],
   "source": [
    "log_it = torch.arange(16).view(4, -1)\n",
    "loss = constrastive_logit_loss(log_it)\n",
    "logger.info(loss)"
   ]
  },
  {
   "cell_type": "code",
   "execution_count": 9,
   "metadata": {},
   "outputs": [
    {
     "name": "stdout",
     "output_type": "stream",
     "text": [
      "tensor([[0.0000],\n",
      "        [0.2941],\n",
      "        [0.3571],\n",
      "        [0.3846]]) tensor(1.0359) tensor(0.2590)\n"
     ]
    }
   ],
   "source": [
    "l1 = torch.tensor([[0], [5], [10], [15]])\n",
    "l2 = torch.tensor([[6], [17], [28], [39]])\n",
    "l3 = l1 / l2\n",
    "logger.info(l3, l3.sum(), l3.sum() / 4)"
   ]
  },
  {
   "cell_type": "code",
   "execution_count": 6,
   "metadata": {},
   "outputs": [
    {
     "data": {
      "text/plain": [
       "tensor(15)"
      ]
     },
     "execution_count": 6,
     "metadata": {},
     "output_type": "execute_result"
    }
   ],
   "source": [
    "l1_max = l1.max()\n",
    "l1_max"
   ]
  },
  {
   "cell_type": "code",
   "execution_count": null,
   "metadata": {},
   "outputs": [],
   "source": []
  }
 ],
 "metadata": {
  "kernelspec": {
   "display_name": "torch",
   "language": "python",
   "name": "python3"
  },
  "language_info": {
   "codemirror_mode": {
    "name": "ipython",
    "version": 3
   },
   "file_extension": ".py",
   "mimetype": "text/x-python",
   "name": "python",
   "nbconvert_exporter": "python",
   "pygments_lexer": "ipython3",
   "version": "3.11.8"
  }
 },
 "nbformat": 4,
 "nbformat_minor": 2
}
