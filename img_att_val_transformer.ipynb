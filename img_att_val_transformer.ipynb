{
 "cells": [
  {
   "cell_type": "code",
   "execution_count": 25,
   "metadata": {},
   "outputs": [
    {
     "name": "stdout",
     "output_type": "stream",
     "text": [
      "The autoreload extension is already loaded. To reload it, use:\n",
      "  %reload_ext autoreload\n"
     ]
    }
   ],
   "source": [
    "%load_ext autoreload\n",
    "%autoreload 2\n",
    "\n",
    "import torch\n",
    "import torch.nn as nn\n",
    "import torch.functional as F\n",
    "from torch.utils.data import DataLoader\n",
    "\n",
    "from config import Config\n",
    "from exp_att_val_transformer.img_att_val_transformer import ImgAttValTransformer\n",
    "from img_comment_dataset import ImgCommentDataset\n",
    "from img_embedding import ImageEmbedding\n",
    "from img_util import show_img_tensor_CHW\n",
    "\n",
    "from pathlib import Path\n",
    "\n",
    "from common_util import get_logger\n",
    "logger = get_logger(__name__)"
   ]
  },
  {
   "cell_type": "code",
   "execution_count": null,
   "metadata": {},
   "outputs": [
    {
     "name": "stdout",
     "output_type": "stream",
     "text": [
      "2024-11-11 15:35:12,653 - img_comment_dataset - INFO - Loaded 158915 fliker image-caption data items.\n",
      "2024-11-11 15:35:15,580 - img_comment_dataset - INFO - Loaded 591753 coco image-caption data items.\n",
      "2024-11-11 15:35:30,482 - img_comment_dataset - INFO - Loaded 768536 visual-genome image-caption data items.\n"
     ]
    }
   ],
   "source": [
    "config = Config()\n",
    "train_dataset = ImgCommentDataset(config, split=\"train\")\n",
    "\n",
    "BATCH_SIZE = 2\n",
    "train_dataloader = DataLoader(train_dataset, batch_size=BATCH_SIZE, shuffle=True)\n",
    "\n",
    "(\n",
    "    batch_img_aug_tensor1,\n",
    "    batch_img_aug_tensor2,\n",
    "    batch_img_id_tensor,\n",
    "    batch_comment_encoding,\n",
    "    batch_comment_mask,\n",
    ") = next(iter(train_dataloader))\n",
    "logger.info(f\"batch_img_aug_tensor1: {batch_img_aug_tensor1.size()}\")\n",
    "logger.info(f\"batch_img_aug_tensor2: {batch_img_aug_tensor2.size()}\")\n",
    "logger.info(f\"batch_img_id_tensor: {batch_img_id_tensor.size()}\")\n",
    "logger.info(f\"batch_comment_encoding: {batch_comment_encoding.size()}\")\n",
    "logger.info(f\"batch_comment_mask: {batch_comment_mask.size()}\")\n",
    "\n",
    "show_img_tensor_CHW(img_tensor=batch_img_aug_tensor1[0])"
   ]
  },
  {
   "cell_type": "code",
   "execution_count": null,
   "metadata": {},
   "outputs": [
    {
     "name": "stdout",
     "output_type": "stream",
     "text": [
      "2024-11-11 15:07:40,950 - __main__ - INFO - img_encoding: torch.Size([2, 196, 512])\n",
      "2024-11-11 15:07:41,443 - __main__ - INFO - batch_img_feature: torch.Size([2, 196, 512])\n"
     ]
    }
   ],
   "source": [
    "img_embedding = ImageEmbedding(config=config)\n",
    "img_embedding = img_embedding(batch_img_aug_tensor1)\n",
    "logger.info(f\"img_encoding: {img_embedding.size()}\")\n",
    "\n",
    "img_trans = ImgAttValTransformer(config=config)\n",
    "batch_img_feature = img_trans(img_embedding)\n",
    "logger.info(f\"batch_img_feature: {batch_img_feature.size()}\")"
   ]
  },
  {
   "cell_type": "code",
   "execution_count": null,
   "metadata": {},
   "outputs": [],
   "source": []
  }
 ],
 "metadata": {
  "kernelspec": {
   "display_name": "torch",
   "language": "python",
   "name": "python3"
  },
  "language_info": {
   "codemirror_mode": {
    "name": "ipython",
    "version": 3
   },
   "file_extension": ".py",
   "mimetype": "text/x-python",
   "name": "python",
   "nbconvert_exporter": "python",
   "pygments_lexer": "ipython3",
   "version": "3.11.8"
  }
 },
 "nbformat": 4,
 "nbformat_minor": 2
}
